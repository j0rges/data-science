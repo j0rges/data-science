{
 "cells": [
  {
   "cell_type": "markdown",
   "metadata": {},
   "source": [
    "In this notebook I aim to scrape a list of countries and what continent they are in from [worldatlas.com](https://www.worldatlas.com/cntycont.htm)"
   ]
  },
  {
   "cell_type": "code",
   "execution_count": 1,
   "metadata": {},
   "outputs": [],
   "source": [
    "import pandas as pd\n",
    "from bs4 import BeautifulSoup\n",
    "import requests, json, re"
   ]
  },
  {
   "cell_type": "code",
   "execution_count": 2,
   "metadata": {},
   "outputs": [],
   "source": [
    "url = 'https://www.worldatlas.com/cntycont.htm'\n",
    "\n",
    "page = requests.get(url).text\n",
    "\n",
    "soup = BeautifulSoup(page, 'html.parser')"
   ]
  },
  {
   "cell_type": "code",
   "execution_count": 3,
   "metadata": {},
   "outputs": [
    {
     "data": {
      "text/plain": [
       "[<h2>AFRICA (54)</h2>,\n",
       " <h2>ASIA (44)\n",
       " </h2>,\n",
       " <h2>\n",
       " EUROPE (47)\n",
       " </h2>,\n",
       " <h2>\n",
       " N. AMERICA (23)\n",
       " </h2>,\n",
       " <h2>\n",
       " OCEANIA (14)</h2>,\n",
       " <h2>\n",
       " S. AMERICA (12)</h2>]"
      ]
     },
     "execution_count": 3,
     "metadata": {},
     "output_type": "execute_result"
    }
   ],
   "source": [
    "# get the continent name from the header tag.\n",
    "pattern = r'[A-Z]\\. [A-Z]+|[A-Z]+'\n",
    "clean = lambda header: re.findall(pattern, header.text)[0]\n",
    "\n",
    "# Continents are enclosed in <h2> tags\n",
    "headers = soup.find_all('h2')\n",
    "continent_headers = headers[1:7]\n",
    "continent_headers"
   ]
  },
  {
   "cell_type": "code",
   "execution_count": 4,
   "metadata": {},
   "outputs": [
    {
     "data": {
      "text/plain": [
       "'Angola'"
      ]
     },
     "execution_count": 4,
     "metadata": {},
     "output_type": "execute_result"
    }
   ],
   "source": [
    "headers[1].find_next_sibling().find_all('li')[1].text"
   ]
  },
  {
   "cell_type": "code",
   "execution_count": 5,
   "metadata": {},
   "outputs": [],
   "source": [
    "continent_countries = {}\n",
    "\n",
    "# countries are in <li> tags within a <ul> just after the header with the continent name.\n",
    "for header in continent_headers:\n",
    "    continent = clean(header)\n",
    "    country_tags = header.find_next_sibling().find_all('li')\n",
    "    # get the name of the country\n",
    "    countries = [tag.text for tag in country_tags]\n",
    "    continent_countries[continent] = countries"
   ]
  },
  {
   "cell_type": "code",
   "execution_count": 12,
   "metadata": {},
   "outputs": [
    {
     "data": {
      "text/html": [
       "<div>\n",
       "<style scoped>\n",
       "    .dataframe tbody tr th:only-of-type {\n",
       "        vertical-align: middle;\n",
       "    }\n",
       "\n",
       "    .dataframe tbody tr th {\n",
       "        vertical-align: top;\n",
       "    }\n",
       "\n",
       "    .dataframe thead th {\n",
       "        text-align: right;\n",
       "    }\n",
       "</style>\n",
       "<table border=\"1\" class=\"dataframe\">\n",
       "  <thead>\n",
       "    <tr style=\"text-align: right;\">\n",
       "      <th></th>\n",
       "      <th>country</th>\n",
       "      <th>continent</th>\n",
       "    </tr>\n",
       "  </thead>\n",
       "  <tbody>\n",
       "    <tr>\n",
       "      <th>0</th>\n",
       "      <td>Algeria</td>\n",
       "      <td>Africa</td>\n",
       "    </tr>\n",
       "    <tr>\n",
       "      <th>1</th>\n",
       "      <td>Angola</td>\n",
       "      <td>Africa</td>\n",
       "    </tr>\n",
       "    <tr>\n",
       "      <th>2</th>\n",
       "      <td>Benin</td>\n",
       "      <td>Africa</td>\n",
       "    </tr>\n",
       "    <tr>\n",
       "      <th>3</th>\n",
       "      <td>Botswana</td>\n",
       "      <td>Africa</td>\n",
       "    </tr>\n",
       "    <tr>\n",
       "      <th>4</th>\n",
       "      <td>Burkina</td>\n",
       "      <td>Africa</td>\n",
       "    </tr>\n",
       "  </tbody>\n",
       "</table>\n",
       "</div>"
      ],
      "text/plain": [
       "    country continent\n",
       "0   Algeria    Africa\n",
       "1    Angola    Africa\n",
       "2     Benin    Africa\n",
       "3  Botswana    Africa\n",
       "4   Burkina    Africa"
      ]
     },
     "execution_count": 12,
     "metadata": {},
     "output_type": "execute_result"
    }
   ],
   "source": [
    "continents = []\n",
    "countries = []\n",
    "\n",
    "for continent, country_list in continent_countries.items():\n",
    "    num_countries = len(country_list)\n",
    "    countries.extend(country_list)\n",
    "    continents.extend([continent]*num_countries)\n",
    "\n",
    "\n",
    "df = pd.DataFrame()\n",
    "df['country'] = countries\n",
    "df['continent'] = continents\n",
    "\n",
    "# rename the continents.\n",
    "continent_rename = {'AFRICA': 'Africa', 'ASIA': 'Asia', 'EUROPE': 'Europe', 'N. AMERICA': 'North America',\n",
    "                   'OCEANIA': 'Oceania', 'S. AMERICA': 'South America'}\n",
    "df.replace(continent_rename, inplace=True)\n",
    "\n",
    "df.head()"
   ]
  },
  {
   "cell_type": "code",
   "execution_count": 18,
   "metadata": {},
   "outputs": [],
   "source": [
    "df.replace('Zimbabwe\\n', 'Zimbabwe', inplace=True)"
   ]
  },
  {
   "cell_type": "code",
   "execution_count": 22,
   "metadata": {},
   "outputs": [],
   "source": [
    "full_df = pd.read_csv('health_spending_dataset.csv')\n",
    "\n",
    "bank_countries = set(full_df.country)\n",
    "atlas_countries = set(df.country)"
   ]
  },
  {
   "cell_type": "code",
   "execution_count": 24,
   "metadata": {},
   "outputs": [
    {
     "data": {
      "text/plain": [
       "50"
      ]
     },
     "execution_count": 24,
     "metadata": {},
     "output_type": "execute_result"
    }
   ],
   "source": [
    "len(bank_countries - atlas_countries)"
   ]
  },
  {
   "cell_type": "code",
   "execution_count": 25,
   "metadata": {},
   "outputs": [
    {
     "data": {
      "text/plain": [
       "27"
      ]
     },
     "execution_count": 25,
     "metadata": {},
     "output_type": "execute_result"
    }
   ],
   "source": [
    "len(atlas_countries - bank_countries)"
   ]
  },
  {
   "cell_type": "code",
   "execution_count": null,
   "metadata": {},
   "outputs": [],
   "source": []
  }
 ],
 "metadata": {
  "kernelspec": {
   "display_name": "Python 3",
   "language": "python",
   "name": "python3"
  },
  "language_info": {
   "codemirror_mode": {
    "name": "ipython",
    "version": 3
   },
   "file_extension": ".py",
   "mimetype": "text/x-python",
   "name": "python",
   "nbconvert_exporter": "python",
   "pygments_lexer": "ipython3",
   "version": "3.8.3"
  }
 },
 "nbformat": 4,
 "nbformat_minor": 2
}
