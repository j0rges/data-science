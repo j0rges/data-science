{
 "cells": [
  {
   "cell_type": "markdown",
   "metadata": {},
   "source": [
    "## Exploratory Data Analysis ##\n",
    "\n",
    "Here I am exploring a sample from the 1990 census of the US population, which is available [here](https://archive.ics.uci.edu/ml/datasets/Adult). It is a dataset containing a series of demographic variables for each instance and whether they make more than $50k a year.\n",
    "\n"
   ]
  },
  {
   "cell_type": "code",
   "execution_count": 1,
   "metadata": {},
   "outputs": [],
   "source": [
    "import pandas as pd\n",
    "import matplotlib.pyplot as plt\n",
    "import numpy as np"
   ]
  },
  {
   "cell_type": "code",
   "execution_count": 2,
   "metadata": {},
   "outputs": [
    {
     "data": {
      "text/html": [
       "<div>\n",
       "<style scoped>\n",
       "    .dataframe tbody tr th:only-of-type {\n",
       "        vertical-align: middle;\n",
       "    }\n",
       "\n",
       "    .dataframe tbody tr th {\n",
       "        vertical-align: top;\n",
       "    }\n",
       "\n",
       "    .dataframe thead th {\n",
       "        text-align: right;\n",
       "    }\n",
       "</style>\n",
       "<table border=\"1\" class=\"dataframe\">\n",
       "  <thead>\n",
       "    <tr style=\"text-align: right;\">\n",
       "      <th></th>\n",
       "      <th>age</th>\n",
       "      <th>type_employer</th>\n",
       "      <th>fnlwgt</th>\n",
       "      <th>education</th>\n",
       "      <th>education_num</th>\n",
       "      <th>marital</th>\n",
       "      <th>occupation</th>\n",
       "      <th>relationship</th>\n",
       "      <th>race</th>\n",
       "      <th>sex</th>\n",
       "      <th>capital_gain</th>\n",
       "      <th>capital_loss</th>\n",
       "      <th>hr_per_week</th>\n",
       "      <th>country</th>\n",
       "      <th>income</th>\n",
       "    </tr>\n",
       "  </thead>\n",
       "  <tbody>\n",
       "    <tr>\n",
       "      <th>0</th>\n",
       "      <td>39</td>\n",
       "      <td>State-gov</td>\n",
       "      <td>77516</td>\n",
       "      <td>Bachelors</td>\n",
       "      <td>13</td>\n",
       "      <td>Never-married</td>\n",
       "      <td>Adm-clerical</td>\n",
       "      <td>Not-in-family</td>\n",
       "      <td>White</td>\n",
       "      <td>Male</td>\n",
       "      <td>2174</td>\n",
       "      <td>0</td>\n",
       "      <td>40</td>\n",
       "      <td>United-States</td>\n",
       "      <td>&lt;=50K</td>\n",
       "    </tr>\n",
       "    <tr>\n",
       "      <th>1</th>\n",
       "      <td>50</td>\n",
       "      <td>Self-emp-not-inc</td>\n",
       "      <td>83311</td>\n",
       "      <td>Bachelors</td>\n",
       "      <td>13</td>\n",
       "      <td>Married-civ-spouse</td>\n",
       "      <td>Exec-managerial</td>\n",
       "      <td>Husband</td>\n",
       "      <td>White</td>\n",
       "      <td>Male</td>\n",
       "      <td>0</td>\n",
       "      <td>0</td>\n",
       "      <td>13</td>\n",
       "      <td>United-States</td>\n",
       "      <td>&lt;=50K</td>\n",
       "    </tr>\n",
       "    <tr>\n",
       "      <th>2</th>\n",
       "      <td>38</td>\n",
       "      <td>Private</td>\n",
       "      <td>215646</td>\n",
       "      <td>HS-grad</td>\n",
       "      <td>9</td>\n",
       "      <td>Divorced</td>\n",
       "      <td>Handlers-cleaners</td>\n",
       "      <td>Not-in-family</td>\n",
       "      <td>White</td>\n",
       "      <td>Male</td>\n",
       "      <td>0</td>\n",
       "      <td>0</td>\n",
       "      <td>40</td>\n",
       "      <td>United-States</td>\n",
       "      <td>&lt;=50K</td>\n",
       "    </tr>\n",
       "    <tr>\n",
       "      <th>3</th>\n",
       "      <td>53</td>\n",
       "      <td>Private</td>\n",
       "      <td>234721</td>\n",
       "      <td>11th</td>\n",
       "      <td>7</td>\n",
       "      <td>Married-civ-spouse</td>\n",
       "      <td>Handlers-cleaners</td>\n",
       "      <td>Husband</td>\n",
       "      <td>Black</td>\n",
       "      <td>Male</td>\n",
       "      <td>0</td>\n",
       "      <td>0</td>\n",
       "      <td>40</td>\n",
       "      <td>United-States</td>\n",
       "      <td>&lt;=50K</td>\n",
       "    </tr>\n",
       "    <tr>\n",
       "      <th>4</th>\n",
       "      <td>28</td>\n",
       "      <td>Private</td>\n",
       "      <td>338409</td>\n",
       "      <td>Bachelors</td>\n",
       "      <td>13</td>\n",
       "      <td>Married-civ-spouse</td>\n",
       "      <td>Prof-specialty</td>\n",
       "      <td>Wife</td>\n",
       "      <td>Black</td>\n",
       "      <td>Female</td>\n",
       "      <td>0</td>\n",
       "      <td>0</td>\n",
       "      <td>40</td>\n",
       "      <td>Cuba</td>\n",
       "      <td>&lt;=50K</td>\n",
       "    </tr>\n",
       "  </tbody>\n",
       "</table>\n",
       "</div>"
      ],
      "text/plain": [
       "   age      type_employer  fnlwgt   education  education_num  \\\n",
       "0   39          State-gov   77516   Bachelors             13   \n",
       "1   50   Self-emp-not-inc   83311   Bachelors             13   \n",
       "2   38            Private  215646     HS-grad              9   \n",
       "3   53            Private  234721        11th              7   \n",
       "4   28            Private  338409   Bachelors             13   \n",
       "\n",
       "               marital          occupation    relationship    race     sex  \\\n",
       "0        Never-married        Adm-clerical   Not-in-family   White    Male   \n",
       "1   Married-civ-spouse     Exec-managerial         Husband   White    Male   \n",
       "2             Divorced   Handlers-cleaners   Not-in-family   White    Male   \n",
       "3   Married-civ-spouse   Handlers-cleaners         Husband   Black    Male   \n",
       "4   Married-civ-spouse      Prof-specialty            Wife   Black  Female   \n",
       "\n",
       "   capital_gain  capital_loss  hr_per_week         country  income  \n",
       "0          2174             0           40   United-States   <=50K  \n",
       "1             0             0           13   United-States   <=50K  \n",
       "2             0             0           40   United-States   <=50K  \n",
       "3             0             0           40   United-States   <=50K  \n",
       "4             0             0           40            Cuba   <=50K  "
      ]
     },
     "execution_count": 2,
     "metadata": {},
     "output_type": "execute_result"
    }
   ],
   "source": [
    "adult_data = pd.read_csv('data/adult.data', header=None)\n",
    "adult_data.columns = ['age', 'type_employer', 'fnlwgt', 'education', \n",
    "                \"education_num\",\"marital\", \"occupation\", \"relationship\", \"race\",\"sex\",\n",
    "                \"capital_gain\", \"capital_loss\", \"hr_per_week\",\"country\",\"income\"]\n",
    "\n",
    "# It seems some values have a space before, which can be annoying.\n",
    "adult_data.replace({' Male':'Male', ' Female':'Female'}, inplace=True)\n",
    "\n",
    "adult_data.head()"
   ]
  },
  {
   "cell_type": "code",
   "execution_count": 3,
   "metadata": {},
   "outputs": [
    {
     "name": "stdout",
     "output_type": "stream",
     "text": [
      "<class 'pandas.core.frame.DataFrame'>\n",
      "RangeIndex: 32561 entries, 0 to 32560\n",
      "Data columns (total 15 columns):\n",
      " #   Column         Non-Null Count  Dtype \n",
      "---  ------         --------------  ----- \n",
      " 0   age            32561 non-null  int64 \n",
      " 1   type_employer  32561 non-null  object\n",
      " 2   fnlwgt         32561 non-null  int64 \n",
      " 3   education      32561 non-null  object\n",
      " 4   education_num  32561 non-null  int64 \n",
      " 5   marital        32561 non-null  object\n",
      " 6   occupation     32561 non-null  object\n",
      " 7   relationship   32561 non-null  object\n",
      " 8   race           32561 non-null  object\n",
      " 9   sex            32561 non-null  object\n",
      " 10  capital_gain   32561 non-null  int64 \n",
      " 11  capital_loss   32561 non-null  int64 \n",
      " 12  hr_per_week    32561 non-null  int64 \n",
      " 13  country        32561 non-null  object\n",
      " 14  income         32561 non-null  object\n",
      "dtypes: int64(6), object(9)\n",
      "memory usage: 3.7+ MB\n"
     ]
    }
   ],
   "source": [
    "adult_data.info()"
   ]
  },
  {
   "cell_type": "code",
   "execution_count": 4,
   "metadata": {},
   "outputs": [
    {
     "data": {
      "text/html": [
       "<div>\n",
       "<style scoped>\n",
       "    .dataframe tbody tr th:only-of-type {\n",
       "        vertical-align: middle;\n",
       "    }\n",
       "\n",
       "    .dataframe tbody tr th {\n",
       "        vertical-align: top;\n",
       "    }\n",
       "\n",
       "    .dataframe thead th {\n",
       "        text-align: right;\n",
       "    }\n",
       "</style>\n",
       "<table border=\"1\" class=\"dataframe\">\n",
       "  <thead>\n",
       "    <tr style=\"text-align: right;\">\n",
       "      <th></th>\n",
       "      <th>age</th>\n",
       "      <th>type_employer</th>\n",
       "      <th>fnlwgt</th>\n",
       "      <th>education</th>\n",
       "      <th>education_num</th>\n",
       "      <th>marital</th>\n",
       "      <th>occupation</th>\n",
       "      <th>relationship</th>\n",
       "      <th>race</th>\n",
       "      <th>sex</th>\n",
       "      <th>capital_gain</th>\n",
       "      <th>capital_loss</th>\n",
       "      <th>hr_per_week</th>\n",
       "      <th>country</th>\n",
       "      <th>high_income</th>\n",
       "    </tr>\n",
       "  </thead>\n",
       "  <tbody>\n",
       "    <tr>\n",
       "      <th>0</th>\n",
       "      <td>39</td>\n",
       "      <td>State-gov</td>\n",
       "      <td>77516</td>\n",
       "      <td>Bachelors</td>\n",
       "      <td>13</td>\n",
       "      <td>Never-married</td>\n",
       "      <td>Adm-clerical</td>\n",
       "      <td>Not-in-family</td>\n",
       "      <td>White</td>\n",
       "      <td>Male</td>\n",
       "      <td>2174</td>\n",
       "      <td>0</td>\n",
       "      <td>40</td>\n",
       "      <td>United-States</td>\n",
       "      <td>0</td>\n",
       "    </tr>\n",
       "    <tr>\n",
       "      <th>1</th>\n",
       "      <td>50</td>\n",
       "      <td>Self-emp-not-inc</td>\n",
       "      <td>83311</td>\n",
       "      <td>Bachelors</td>\n",
       "      <td>13</td>\n",
       "      <td>Married-civ-spouse</td>\n",
       "      <td>Exec-managerial</td>\n",
       "      <td>Husband</td>\n",
       "      <td>White</td>\n",
       "      <td>Male</td>\n",
       "      <td>0</td>\n",
       "      <td>0</td>\n",
       "      <td>13</td>\n",
       "      <td>United-States</td>\n",
       "      <td>0</td>\n",
       "    </tr>\n",
       "    <tr>\n",
       "      <th>2</th>\n",
       "      <td>38</td>\n",
       "      <td>Private</td>\n",
       "      <td>215646</td>\n",
       "      <td>HS-grad</td>\n",
       "      <td>9</td>\n",
       "      <td>Divorced</td>\n",
       "      <td>Handlers-cleaners</td>\n",
       "      <td>Not-in-family</td>\n",
       "      <td>White</td>\n",
       "      <td>Male</td>\n",
       "      <td>0</td>\n",
       "      <td>0</td>\n",
       "      <td>40</td>\n",
       "      <td>United-States</td>\n",
       "      <td>0</td>\n",
       "    </tr>\n",
       "    <tr>\n",
       "      <th>3</th>\n",
       "      <td>53</td>\n",
       "      <td>Private</td>\n",
       "      <td>234721</td>\n",
       "      <td>11th</td>\n",
       "      <td>7</td>\n",
       "      <td>Married-civ-spouse</td>\n",
       "      <td>Handlers-cleaners</td>\n",
       "      <td>Husband</td>\n",
       "      <td>Black</td>\n",
       "      <td>Male</td>\n",
       "      <td>0</td>\n",
       "      <td>0</td>\n",
       "      <td>40</td>\n",
       "      <td>United-States</td>\n",
       "      <td>0</td>\n",
       "    </tr>\n",
       "    <tr>\n",
       "      <th>4</th>\n",
       "      <td>28</td>\n",
       "      <td>Private</td>\n",
       "      <td>338409</td>\n",
       "      <td>Bachelors</td>\n",
       "      <td>13</td>\n",
       "      <td>Married-civ-spouse</td>\n",
       "      <td>Prof-specialty</td>\n",
       "      <td>Wife</td>\n",
       "      <td>Black</td>\n",
       "      <td>Female</td>\n",
       "      <td>0</td>\n",
       "      <td>0</td>\n",
       "      <td>40</td>\n",
       "      <td>Cuba</td>\n",
       "      <td>0</td>\n",
       "    </tr>\n",
       "  </tbody>\n",
       "</table>\n",
       "</div>"
      ],
      "text/plain": [
       "   age      type_employer  fnlwgt   education  education_num  \\\n",
       "0   39          State-gov   77516   Bachelors             13   \n",
       "1   50   Self-emp-not-inc   83311   Bachelors             13   \n",
       "2   38            Private  215646     HS-grad              9   \n",
       "3   53            Private  234721        11th              7   \n",
       "4   28            Private  338409   Bachelors             13   \n",
       "\n",
       "               marital          occupation    relationship    race     sex  \\\n",
       "0        Never-married        Adm-clerical   Not-in-family   White    Male   \n",
       "1   Married-civ-spouse     Exec-managerial         Husband   White    Male   \n",
       "2             Divorced   Handlers-cleaners   Not-in-family   White    Male   \n",
       "3   Married-civ-spouse   Handlers-cleaners         Husband   Black    Male   \n",
       "4   Married-civ-spouse      Prof-specialty            Wife   Black  Female   \n",
       "\n",
       "   capital_gain  capital_loss  hr_per_week         country  high_income  \n",
       "0          2174             0           40   United-States            0  \n",
       "1             0             0           13   United-States            0  \n",
       "2             0             0           40   United-States            0  \n",
       "3             0             0           40   United-States            0  \n",
       "4             0             0           40            Cuba            0  "
      ]
     },
     "execution_count": 4,
     "metadata": {},
     "output_type": "execute_result"
    }
   ],
   "source": [
    "# For simplicity let us change the income column for an indicator of whether the person makes more than \n",
    "# 50 k or not, and we will call it high income.\n",
    "adult_data = pd.get_dummies(adult_data, columns=['income'], drop_first=True)\n",
    "adult_data = adult_data.rename({'income_ >50K':'high_income'}, axis='columns')\n",
    "\n",
    "adult_data.head()"
   ]
  },
  {
   "cell_type": "code",
   "execution_count": 5,
   "metadata": {},
   "outputs": [
    {
     "name": "stdout",
     "output_type": "stream",
     "text": [
      ">50k portion is the percentage in that group with a high income.\n",
      "\n",
      "race\n",
      "                     count  percentage    >50k  >50k percentage  >50k portion\n",
      " Amer-Indian-Eskimo    311        0.96    36.0             0.46         11.58\n",
      " Asian-Pac-Islander   1039        3.19   276.0             3.52         26.56\n",
      " Black                3124        9.59   387.0             4.94         12.39\n",
      " Other                 271        0.83    25.0             0.32          9.23\n",
      " White               27816       85.43  7117.0            90.77         25.59 \n",
      "\n",
      "sex\n",
      "        count  percentage    >50k  >50k percentage  >50k portion\n",
      "Female  10771       33.08  1179.0            15.04         10.95\n",
      "Male    21790       66.92  6662.0            84.96         30.57 \n",
      "\n",
      "education\n",
      "               count  percentage    >50k  >50k percentage  >50k portion\n",
      " 10th            933        2.87    62.0             0.79          6.65\n",
      " 11th           1175        3.61    60.0             0.77          5.11\n",
      " 12th            433        1.33    33.0             0.42          7.62\n",
      " 1st-4th         168        0.52     6.0             0.08          3.57\n",
      " 5th-6th         333        1.02    16.0             0.20          4.80\n",
      " 7th-8th         646        1.98    40.0             0.51          6.19\n",
      " 9th             514        1.58    27.0             0.34          5.25\n",
      " Assoc-acdm     1067        3.28   265.0             3.38         24.84\n",
      " Assoc-voc      1382        4.24   361.0             4.60         26.12\n",
      " Bachelors      5355       16.45  2221.0            28.33         41.48\n",
      " Doctorate       413        1.27   306.0             3.90         74.09\n",
      " HS-grad       10501       32.25  1675.0            21.36         15.95\n",
      " Masters        1723        5.29   959.0            12.23         55.66\n",
      " Preschool        51        0.16     0.0             0.00          0.00\n",
      " Prof-school     576        1.77   423.0             5.39         73.44\n",
      " Some-college   7291       22.39  1387.0            17.69         19.02 \n",
      "\n"
     ]
    }
   ],
   "source": [
    "# Make a sort of demographics table\n",
    "print('>50k portion is the percentage in that group with a high income.')\n",
    "print()\n",
    "\n",
    "pd.set_option('precision', 2)\n",
    "\n",
    "columns = ['race', 'sex','education']\n",
    "num_rows = len(adult_data)\n",
    "total_high_income = adult_data.high_income.sum()\n",
    "tables = {}\n",
    "\n",
    "for col in columns:\n",
    "    print(col)\n",
    "    demographics_table = pd.DataFrame(columns=['count','percentage','>50k',\n",
    "                                               '>50k percentage','>50k portion'])\n",
    "    gb = adult_data.groupby(col)['high_income'].aggregate(['count','sum'])\n",
    "    gb['percentage'] = gb['count']*100/num_rows\n",
    "    gb['>50k percentage'] = gb['sum']*100/total_high_income\n",
    "    gb['>50k portion'] = gb['sum']*100/gb['count']\n",
    "    gb.rename({'sum':'>50k'}, inplace=True, axis=1)\n",
    "    demographics_table = demographics_table.append(gb)\n",
    "    print(demographics_table,'\\n')\n",
    "    tables[col] = demographics_table"
   ]
  },
  {
   "cell_type": "markdown",
   "metadata": {},
   "source": [
    "From the tables above we can take away a few points straight away:\n",
    "\n",
    " 1. White and Pacific Islander people are more than two times more likely to earn a high income than people from other ethnic backgrounds (the largest group of which is Black people).\n",
    " \n",
    " 1. Male workers are almost three times as likely to have a high income as female worker. Moreover, they make up about 2 thirds of the work force in our sample.\n",
    " \n",
    " 1. Having a degree greatly increases your chances of having a high income, and the more education you have the higher the chances, with almost three quarters of people with a phd making a high income.\n",
    " \n",
    "We can see this visually:"
   ]
  },
  {
   "cell_type": "code",
   "execution_count": 6,
   "metadata": {},
   "outputs": [
    {
     "data": {
      "image/png": "[encoded data removed]",
      "text/plain": [
       "<Figure size 432x288 with 1 Axes>"
      ]
     },
     "metadata": {
      "needs_background": "light"
     },
     "output_type": "display_data"
    },
    {
     "data": {
      "image/png": "[encoded data removed]",
      "text/plain": [
       "<Figure size 432x288 with 1 Axes>"
      ]
     },
     "metadata": {
      "needs_background": "light"
     },
     "output_type": "display_data"
    },
    {
     "data": {
      "image/png": "[encoded data removed]",
      "text/plain": [
       "<Figure size 432x288 with 1 Axes>"
      ]
     },
     "metadata": {
      "needs_background": "light"
     },
     "output_type": "display_data"
    }
   ],
   "source": [
    "# First get the education levels in order, so the plot is more intuitive:\n",
    "unzip = lambda array, index: [a[index] for a in array]\n",
    "education_levels = list(zip(adult_data.education.unique(), adult_data.education_num.unique()))\n",
    "education_levels = sorted(education_levels, key=lambda x: x[1])\n",
    "education_levels = unzip(education_levels, 0)\n",
    "\n",
    "for col in columns[:2]:\n",
    "    tables[col].plot.bar(y='>50k portion', label='proportion with high income')\n",
    "    plt.show()\n",
    "    \n",
    "tables['education'].loc[education_levels].plot.bar(y='>50k portion', label='proportion with high income')\n",
    "plt.show()"
   ]
  },
  {
   "cell_type": "markdown",
   "metadata": {},
   "source": [
    "It seems that demographics has a very big effect on your chances of having a high income. Let us continue to explore the relationship between other variables and whether someone has a high income or not. Remember that this is only data for people who are working. Lets start with age, a priori we can say that people at the start of their careers are unlikely to have a high income."
   ]
  },
  {
   "cell_type": "code",
   "execution_count": 7,
   "metadata": {},
   "outputs": [
    {
     "data": {
      "image/png": "[encoded data removed]",
      "text/plain": [
       "<Figure size 432x288 with 1 Axes>"
      ]
     },
     "metadata": {
      "needs_background": "light"
     },
     "output_type": "display_data"
    },
    {
     "data": {
      "image/png": "[encoded data removed]",
      "text/plain": [
       "<Figure size 432x288 with 1 Axes>"
      ]
     },
     "metadata": {
      "needs_background": "light"
     },
     "output_type": "display_data"
    }
   ],
   "source": [
    "gb = adult_data.groupby('age')['high_income'].aggregate(['sum', 'count'])\n",
    "gb['proportion'] = gb['sum']/gb['count']\n",
    "plt.scatter(gb.index, gb['proportion'])\n",
    "plt.xlabel('age')\n",
    "plt.ylabel('proportion with income >50k')\n",
    "plt.show()\n",
    "\n",
    "adult_data['age'].hist()\n",
    "plt.xlabel('age')\n",
    "plt.ylabel('count')\n",
    "plt.show()"
   ]
  },
  {
   "cell_type": "markdown",
   "metadata": {},
   "source": [
    "The proportion of people with a high income increases between with age until the age of 50 approximately. From this age on the proportion starts to decline. The initial trend is what would be expected, you don't start with a high income job, but you get there with time. On the later downward trend, we can only speculate, but a reasonable explaination is that people with high income start to retire around this age, whilst people with lower incomes usually can't afford to. This is backed by a reduction in the working population in the working population of this age and older. Therefore, people with high income tend to retire at a younger age (or equivalently, retire at higher rates) leaving a larger proportion of older workers which have a low income.\n",
    "\n"
   ]
  },
  {
   "cell_type": "markdown",
   "metadata": {},
   "source": [
    "Let us look more closely at the differences between male and female, in terms of their likelihood of making a high income (which is 3 times higher for male as we saw earlier). In particular we would like to see how this is affected by age and level of education."
   ]
  },
  {
   "cell_type": "code",
   "execution_count": 8,
   "metadata": {},
   "outputs": [
    {
     "data": {
      "image/png": "[encoded data removed]",
      "text/plain": [
       "<Figure size 864x360 with 2 Axes>"
      ]
     },
     "metadata": {
      "needs_background": "light"
     },
     "output_type": "display_data"
    }
   ],
   "source": [
    "# distribution of age by sex\n",
    "fig, axes = plt.subplots(1,2, figsize=(12,5))\n",
    "\n",
    "ax = axes[0]\n",
    "_, bins, _ = ax.hist(adult_data.loc[adult_data.sex == 'Male','age'], label='male')\n",
    "ax.hist(adult_data.loc[adult_data.sex == 'Female','age'], label='female')\n",
    "ax.set_xlabel('age')\n",
    "ax.set_ylabel('count')\n",
    "ax.set_title('Number of workers by age and sex.')\n",
    "ax.legend()\n",
    "\n",
    "ax = axes[1]\n",
    "df = adult_data.loc[adult_data.sex == 'Male','age']\n",
    "weights = np.repeat(1/len(df), len(df))\n",
    "ax.hist(df, label='male',weights = weights, alpha=0.5)\n",
    "df = adult_data.loc[adult_data.sex == 'Female','age']\n",
    "weights = np.repeat(1/len(df), len(df))\n",
    "ax.hist(df, label='female',weights = weights, alpha=0.5)\n",
    "ax.set_xlabel('age')\n",
    "ax.set_ylabel('probability mass')\n",
    "ax.set_title('Distribution of workers by age and sex.')\n",
    "ax.legend()\n",
    "\n",
    "plt.show()\n"
   ]
  },
  {
   "cell_type": "markdown",
   "metadata": {},
   "source": [
    "Right off the bat, we can see that the number of female workers is overall much smaller and that the distributions are significantly different. This is due to a series of societal reason. Furthermore, the distribution implies that some of the difference in rate of female workers with high income is due to the fact that a larger proportion of female workers are of a younger age. "
   ]
  },
  {
   "cell_type": "code",
   "execution_count": 9,
   "metadata": {},
   "outputs": [
    {
     "data": {
      "image/png": "[encoded data removed]",
      "text/plain": [
       "<Figure size 432x288 with 1 Axes>"
      ]
     },
     "metadata": {
      "needs_background": "light"
     },
     "output_type": "display_data"
    },
    {
     "name": "stdout",
     "output_type": "stream",
     "text": [
      "The median rate of likelihoods of having a high income between men and women for these groups is 2.559681779175878\n"
     ]
    }
   ],
   "source": [
    "width = (bins[1]-bins[0])*0.4\n",
    "\n",
    "def index_(age):\n",
    "    for i in range(len(bins)-1):\n",
    "        if age < bins[i+1]:\n",
    "            return i\n",
    "    return len(bins)-2\n",
    "proportion = lambda df: df['sum']/df['count']\n",
    "age_index = [(x+y)/2 for x,y in zip(bins[:-1],bins[1:])]\n",
    "\n",
    "male = adult_data.loc[adult_data.sex == 'Male'].set_index('age').groupby(index_)\\\n",
    "                    ['high_income'].aggregate(['sum','count'])\n",
    "male['proportion'] = proportion(male)\n",
    "female = adult_data.loc[adult_data.sex == 'Female'].set_index('age').groupby(index_)\\\n",
    "                    ['high_income'].aggregate(['sum','count'])\n",
    "female['proportion'] = proportion(female)\n",
    "\n",
    "plt.bar(age_index - width/2, male['proportion'], width, label='male')\n",
    "plt.bar(age_index + width/2, female['proportion'], width, label='female')\n",
    "plt.legend()\n",
    "plt.xlabel('age')\n",
    "plt.ylabel('proportion with high income')\n",
    "plt.show()\n",
    "\n",
    "print('The median rate of likelihoods of having a high income between men and women for these groups is {}'\\\n",
    "      .format(np.median(male['proportion']/female['proportion'])))"
   ]
  },
  {
   "cell_type": "markdown",
   "metadata": {},
   "source": [
    "This last plot shows us that even when we account for age, female workers in this dataset are far less likely to make a high income than men"
   ]
  },
  {
   "cell_type": "code",
   "execution_count": 10,
   "metadata": {},
   "outputs": [
    {
     "data": {
      "image/png": "[encoded data removed]",
      "text/plain": [
       "<Figure size 432x288 with 1 Axes>"
      ]
     },
     "metadata": {
      "needs_background": "light"
     },
     "output_type": "display_data"
    }
   ],
   "source": [
    "# Level of education by sex\n",
    "edu_nums = adult_data.education_num.unique()\n",
    "edu_levels = adult_data.education.unique()\n",
    "\n",
    "male = adult_data.loc[adult_data.sex == 'Male'].groupby('education_num')['age'].aggregate(['count'])\n",
    "female = adult_data.loc[adult_data.sex == 'Female'].groupby('education_num')['age'].aggregate(['count'])\n",
    "\n",
    "plt.barh(male.index, male['count'].div(male['count'].sum()), label='male', alpha = 0.7)\n",
    "plt.barh(female.index, female['count'].div(female['count'].sum()), label='female', alpha = 0.7)\n",
    "plt.legend()\n",
    "plt.yticks(edu_nums, edu_levels)\n",
    "plt.xlabel('distribution')\n",
    "plt.show()"
   ]
  },
  {
   "cell_type": "markdown",
   "metadata": {},
   "source": [
    "Despite some differences, the overall distribution of education level is similar for both sexes, with the most stark differences for some-college -with women noticeably more likely to have this level of education- Doctorate and Prof-school -the later two with men much more likely to achieve it."
   ]
  },
  {
   "cell_type": "markdown",
   "metadata": {},
   "source": [
    "Finally, let us look at the rest of the variables and see if there is any relationship between them and having a high income"
   ]
  },
  {
   "cell_type": "code",
   "execution_count": 11,
   "metadata": {},
   "outputs": [
    {
     "data": {
      "image/png": "[encoded data removed]",
      "text/plain": [
       "<Figure size 432x288 with 1 Axes>"
      ]
     },
     "metadata": {
      "needs_background": "light"
     },
     "output_type": "display_data"
    },
    {
     "data": {
      "image/png": "[encoded data removed]",
      "text/plain": [
       "<Figure size 432x288 with 1 Axes>"
      ]
     },
     "metadata": {
      "needs_background": "light"
     },
     "output_type": "display_data"
    }
   ],
   "source": [
    "for col in ['occupation','type_employer']:\n",
    "    df = adult_data.groupby(col)['high_income'].aggregate(['sum','count'])\n",
    "    df['proportion'] = proportion(df)\n",
    "    df.sort_values(by=['proportion']).plot.barh(y='proportion')\n",
    "    plt.xlabel('proportion with high income')"
   ]
  },
  {
   "cell_type": "code",
   "execution_count": 12,
   "metadata": {},
   "outputs": [],
   "source": [
    "proportion = lambda df: df['sum']/df['count']"
   ]
  },
  {
   "cell_type": "code",
   "execution_count": null,
   "metadata": {},
   "outputs": [],
   "source": []
  }
 ],
 "metadata": {
  "kernelspec": {
   "display_name": "Python 3",
   "language": "python",
   "name": "python3"
  },
  "language_info": {
   "codemirror_mode": {
    "name": "ipython",
    "version": 3
   },
   "file_extension": ".py",
   "mimetype": "text/x-python",
   "name": "python",
   "nbconvert_exporter": "python",
   "pygments_lexer": "ipython3",
   "version": "3.7.4"
  }
 },
 "nbformat": 4,
 "nbformat_minor": 2
}
